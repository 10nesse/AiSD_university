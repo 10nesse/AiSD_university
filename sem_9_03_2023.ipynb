{
  "nbformat": 4,
  "nbformat_minor": 0,
  "metadata": {
    "colab": {
      "provenance": []
    },
    "kernelspec": {
      "name": "python3",
      "display_name": "Python 3"
    },
    "language_info": {
      "name": "python"
    }
  },
  "cells": [
    {
      "cell_type": "markdown",
      "source": [
        "# Введение в функциональное программирование"
      ],
      "metadata": {
        "id": "Qc9GGupN7t3Y"
      }
    },
    {
      "cell_type": "markdown",
      "source": [
        "### 1. Реализовать функцию factorial(n) двумя способами: с помощью цикла и рекурсии."
      ],
      "metadata": {
        "id": "rV-AwQif709-"
      }
    },
    {
      "cell_type": "code",
      "source": [
        "# C помощью цикла\n",
        "def factorial(n):\n",
        "    ft = 1\n",
        "    for i in range(1,n+1):\n",
        "        ft*=i\n",
        "    return ft\n",
        "\n",
        "factorial(5) # Факториал 5    "
      ],
      "metadata": {
        "id": "1W5-jwD57xcv",
        "colab": {
          "base_uri": "https://localhost:8080/"
        },
        "outputId": "fd55a37e-0452-4c3f-c739-02b2722e91d9"
      },
      "execution_count": null,
      "outputs": [
        {
          "output_type": "execute_result",
          "data": {
            "text/plain": [
              "120"
            ]
          },
          "metadata": {},
          "execution_count": 4
        }
      ]
    },
    {
      "cell_type": "code",
      "source": [
        "# С помощью рекурсии\n",
        "def factorial(n):\n",
        "    if n == 0:\n",
        "        return 1\n",
        "    else:\n",
        "        return n * factorial(n-1)\n",
        "factorial(5)        "
      ],
      "metadata": {
        "id": "Zii5KMD2n6q0",
        "colab": {
          "base_uri": "https://localhost:8080/"
        },
        "outputId": "4b148a53-8a99-42a5-ddd6-90c73016a528"
      },
      "execution_count": null,
      "outputs": [
        {
          "output_type": "execute_result",
          "data": {
            "text/plain": [
              "120"
            ]
          },
          "metadata": {},
          "execution_count": 69
        }
      ]
    },
    {
      "cell_type": "markdown",
      "source": [
        "##### 1.1) С использованием глобальной переменной реализовать вывод на экран отладочной информации о вызовах функции factorial(n) печатающий с отступами, соответствующими глубине рекурсии."
      ],
      "metadata": {
        "id": "H-qqi0IEntb7"
      }
    },
    {
      "cell_type": "code",
      "source": [
        "debug = ''\n",
        "\n",
        "def factorial(n):\n",
        "    global debug\n",
        "    debug += f'n = {n}\\n'\n",
        "    if n == 0:\n",
        "        return 1\n",
        "    else:\n",
        "        result = n * factorial(n-1)\n",
        "        debug += f'result = {result}\\n'\n",
        "        return result\n",
        "\n",
        "factorial(5)\n",
        "print(debug)"
      ],
      "metadata": {
        "colab": {
          "base_uri": "https://localhost:8080/"
        },
        "id": "BUw9xdGhn40J",
        "outputId": "7738a84f-7ddf-4f7d-d2d6-f09796fb4bad"
      },
      "execution_count": null,
      "outputs": [
        {
          "output_type": "stream",
          "name": "stdout",
          "text": [
            "n = 5\n",
            "n = 4\n",
            "n = 3\n",
            "n = 2\n",
            "n = 1\n",
            "n = 0\n",
            "result = 1\n",
            "result = 2\n",
            "result = 6\n",
            "result = 24\n",
            "result = 120\n",
            "\n"
          ]
        }
      ]
    },
    {
      "cell_type": "markdown",
      "source": [
        "##### 1.2) Реализовать функции printIn(s) и printOut(s), которые выводят строки s с отступами, при этом каждый вывод printIn(s) приводит к увеличению отступа, а каждый вывод printOut(s) приводит к уменьшению отступа."
      ],
      "metadata": {
        "id": "0yYIi_Cloupf"
      }
    },
    {
      "cell_type": "code",
      "source": [
        "global depth\n",
        "depth = 0\n",
        "\n",
        "def printIn(s):\n",
        "    global depth\n",
        "    print('    ' * depth + s)\n",
        "    depth += 1\n",
        "\n",
        "def printOut(s):\n",
        "    global depth\n",
        "    depth -= 1\n",
        "    print('    ' * depth + s)\n",
        "\n",
        "printIn('Волоколамск')\n",
        "printIn('Волоколамск')\n",
        "printIn('Волоколамск')\n",
        "printOut('Волоколамск')\n",
        "printOut('Волоколамск')\n",
        "printOut('Волоколамск')"
      ],
      "metadata": {
        "colab": {
          "base_uri": "https://localhost:8080/"
        },
        "id": "Fb9UTawnuSZT",
        "outputId": "d758433b-5a4e-463f-d742-693be1ff74e8"
      },
      "execution_count": null,
      "outputs": [
        {
          "output_type": "stream",
          "name": "stdout",
          "text": [
            "Волоколамск\n",
            "    Волоколамск\n",
            "        Волоколамск\n",
            "        Волоколамск\n",
            "    Волоколамск\n",
            "Волоколамск\n"
          ]
        }
      ]
    },
    {
      "cell_type": "markdown",
      "source": [
        "##### 1.3) С использованием printIn(s) и printOut(s) реализовать отладочный вывод работы factorial(n) как для вызовов функций, так и для возвращаемых значений."
      ],
      "metadata": {
        "id": "M9FzrYqLnXAv"
      }
    },
    {
      "cell_type": "code",
      "source": [
        "global depth\n",
        "depth = 0\n",
        "\n",
        "def printIn(s):\n",
        "    global depth\n",
        "    print('    ' * depth + s)\n",
        "    depth += 1\n",
        "\n",
        "def printOut(s):\n",
        "    global depth\n",
        "    depth -= 1\n",
        "    print('    ' * depth + s)\n",
        "\n",
        "\n",
        "def factorial(n):\n",
        "    printIn(f'factorial({n})')\n",
        "    if n == 0:\n",
        "        result = 1\n",
        "    else:\n",
        "        result = n * factorial(n - 1)\n",
        "    printOut(f'result = {result}')\n",
        "    return result\n",
        "\n",
        "factorial(5)"
      ],
      "metadata": {
        "id": "yqEMBRNRmNO_"
      },
      "execution_count": null,
      "outputs": []
    },
    {
      "cell_type": "markdown",
      "source": [
        "### 2. Рекурсивно реализовать функцию fib(n) вычисляющую значение n-го числа Фибоначчи."
      ],
      "metadata": {
        "id": "x30FtL-X724K"
      }
    },
    {
      "cell_type": "code",
      "source": [
        "# Числа Фибоначчи: 0, 1, 1, 2, 3, 5, 8, 13, 21, 34, 55\n",
        "# Номер числа:     0, 1, 2, 3, 4, 5, 6, 7,  8,  9,  10"
      ],
      "metadata": {
        "id": "rnHhrCVBs0NF"
      },
      "execution_count": null,
      "outputs": []
    },
    {
      "cell_type": "code",
      "source": [
        "def fib(n):\n",
        "    if n <= 1:\n",
        "        return n\n",
        "    else:\n",
        "        return fib(n-1) + fib(n-2)\n",
        "fib(7)"
      ],
      "metadata": {
        "id": "2tjCk_UB76Y9",
        "colab": {
          "base_uri": "https://localhost:8080/"
        },
        "outputId": "8ab5bff4-2b02-48e8-ec13-0709ddcc2bda"
      },
      "execution_count": null,
      "outputs": [
        {
          "output_type": "execute_result",
          "data": {
            "text/plain": [
              "13"
            ]
          },
          "metadata": {},
          "execution_count": 3
        }
      ]
    },
    {
      "cell_type": "markdown",
      "source": [
        "##### 2.1) С использованием printIn(s) и printOut(s) реализовать отладочный вывод работы fib(n)"
      ],
      "metadata": {
        "id": "erZKGaFgnOoZ"
      }
    },
    {
      "cell_type": "code",
      "source": [
        "global depth\n",
        "depth = 0\n",
        "\n",
        "def printIn(s):\n",
        "    global depth\n",
        "    print('    ' * depth + s)\n",
        "    depth += 1\n",
        "\n",
        "def printOut(s):\n",
        "    global depth\n",
        "    depth -= 1\n",
        "    print('    ' * depth + s)\n",
        "\n",
        "\n",
        "def fib(n) -> int:\n",
        "    printIn(f'fib({n})')\n",
        "    if n <= 1:\n",
        "        printOut(f'return {n}')\n",
        "        return n\n",
        "    else:\n",
        "        printIn(f'fib({n-1})')\n",
        "        f1 = fib(n-1)\n",
        "        printOut(f'f1 = {f1}')\n",
        "        printIn(f'fib({n-2})')\n",
        "        f2 = fib(n-2)\n",
        "        printOut(f'f2 = {f2}')\n",
        "        result = f1 + f2\n",
        "        printOut(f'return {result}')\n",
        "        return result\n",
        "\n",
        "fib(3)\n",
        "#print(\"Annotations:\", fib.__annotations__)\n"
      ],
      "metadata": {
        "colab": {
          "base_uri": "https://localhost:8080/"
        },
        "id": "MiMNmDllnz9t",
        "outputId": "6e96728a-5eae-472a-f651-4b4df76bb518"
      },
      "execution_count": null,
      "outputs": [
        {
          "output_type": "stream",
          "name": "stdout",
          "text": [
            "fib(3)\n",
            "    fib(2)\n",
            "        fib(2)\n",
            "            fib(1)\n",
            "                fib(1)\n",
            "                return 1\n",
            "            f1 = 1\n",
            "            fib(0)\n",
            "                fib(0)\n",
            "                return 0\n",
            "            f2 = 0\n",
            "        return 1\n",
            "    f1 = 1\n",
            "    fib(1)\n",
            "        fib(1)\n",
            "        return 1\n",
            "    f2 = 1\n",
            "return 2\n"
          ]
        },
        {
          "output_type": "execute_result",
          "data": {
            "text/plain": [
              "2"
            ]
          },
          "metadata": {},
          "execution_count": 10
        }
      ]
    },
    {
      "cell_type": "markdown",
      "source": [
        "###3. Реализовать функцию, принимающую на вход итерируемый объект функций и возвращающую словарь, в котором ключ - это первое слово из аннотации функции, а значение - ссылка на функцию."
      ],
      "metadata": {
        "id": "KvBZAjEf7_Tb"
      }
    },
    {
      "cell_type": "code",
      "source": [
        "def fib(n: int) -> int: \n",
        "    '''Функция для вычисления n числа фибоначчи'''\n",
        "    if n <= 1:\n",
        "        return n\n",
        "    else:\n",
        "        return fib(n-1) + fib(n-2)\n",
        "\n",
        "def factorial(n: int) -> int:\n",
        "    '''Функция для вычисления факториала'''\n",
        "\n",
        "    if n == 0:\n",
        "        return 1\n",
        "    else:\n",
        "        return n * factorial(n-1)\n",
        "\n",
        "\n",
        "functions = [factorial, fib, print()]        \n",
        "\n",
        "\n",
        "\n",
        "def function_dict(functions):\n",
        "    result_dict = {}\n",
        "    for func in functions:\n",
        "        annotations = func.__annotations__\n",
        "        if annotations:\n",
        "            first_word = annotations.get('return', '').split()[0]\n",
        "            result_dict[first_word] = func\n",
        "    return result_dict\n",
        "\n",
        "\n",
        "function_dict(functions)\n"
      ],
      "metadata": {
        "id": "un-tf5E88I_C",
        "colab": {
          "base_uri": "https://localhost:8080/",
          "height": 340
        },
        "outputId": "b6f65c3f-36aa-47c6-ef11-b46dd5650c68"
      },
      "execution_count": null,
      "outputs": [
        {
          "output_type": "stream",
          "name": "stdout",
          "text": [
            "\n"
          ]
        },
        {
          "output_type": "error",
          "ename": "AttributeError",
          "evalue": "ignored",
          "traceback": [
            "\u001b[0;31m---------------------------------------------------------------------------\u001b[0m",
            "\u001b[0;31mAttributeError\u001b[0m                            Traceback (most recent call last)",
            "\u001b[0;32m<ipython-input-12-2d3df400ccb3>\u001b[0m in \u001b[0;36m<module>\u001b[0;34m\u001b[0m\n\u001b[1;32m     29\u001b[0m \u001b[0;34m\u001b[0m\u001b[0m\n\u001b[1;32m     30\u001b[0m \u001b[0;34m\u001b[0m\u001b[0m\n\u001b[0;32m---> 31\u001b[0;31m \u001b[0mfunction_dict\u001b[0m\u001b[0;34m(\u001b[0m\u001b[0mfunctions\u001b[0m\u001b[0;34m)\u001b[0m\u001b[0;34m\u001b[0m\u001b[0;34m\u001b[0m\u001b[0m\n\u001b[0m",
            "\u001b[0;32m<ipython-input-12-2d3df400ccb3>\u001b[0m in \u001b[0;36mfunction_dict\u001b[0;34m(functions)\u001b[0m\n\u001b[1;32m     24\u001b[0m         \u001b[0mannotations\u001b[0m \u001b[0;34m=\u001b[0m \u001b[0mfunc\u001b[0m\u001b[0;34m.\u001b[0m\u001b[0m__annotations__\u001b[0m\u001b[0;34m\u001b[0m\u001b[0;34m\u001b[0m\u001b[0m\n\u001b[1;32m     25\u001b[0m         \u001b[0;32mif\u001b[0m \u001b[0mannotations\u001b[0m\u001b[0;34m:\u001b[0m\u001b[0;34m\u001b[0m\u001b[0;34m\u001b[0m\u001b[0m\n\u001b[0;32m---> 26\u001b[0;31m             \u001b[0mfirst_word\u001b[0m \u001b[0;34m=\u001b[0m \u001b[0mannotations\u001b[0m\u001b[0;34m.\u001b[0m\u001b[0mget\u001b[0m\u001b[0;34m(\u001b[0m\u001b[0;34m'return'\u001b[0m\u001b[0;34m,\u001b[0m \u001b[0;34m''\u001b[0m\u001b[0;34m)\u001b[0m\u001b[0;34m.\u001b[0m\u001b[0msplit\u001b[0m\u001b[0;34m(\u001b[0m\u001b[0;34m)\u001b[0m\u001b[0;34m[\u001b[0m\u001b[0;36m0\u001b[0m\u001b[0;34m]\u001b[0m\u001b[0;34m\u001b[0m\u001b[0;34m\u001b[0m\u001b[0m\n\u001b[0m\u001b[1;32m     27\u001b[0m             \u001b[0mresult_dict\u001b[0m\u001b[0;34m[\u001b[0m\u001b[0mfirst_word\u001b[0m\u001b[0;34m]\u001b[0m \u001b[0;34m=\u001b[0m \u001b[0mfunc\u001b[0m\u001b[0;34m\u001b[0m\u001b[0;34m\u001b[0m\u001b[0m\n\u001b[1;32m     28\u001b[0m     \u001b[0;32mreturn\u001b[0m \u001b[0mresult_dict\u001b[0m\u001b[0;34m\u001b[0m\u001b[0;34m\u001b[0m\u001b[0m\n",
            "\u001b[0;31mAttributeError\u001b[0m: type object 'int' has no attribute 'split'"
          ]
        }
      ]
    },
    {
      "cell_type": "code",
      "source": [
        "def fib(n):\n",
        "    if n <= 1:\n",
        "        return n\n",
        "    else:\n",
        "        return fib(n-1) + fib(n-2)\n",
        "\n",
        "def factorial(n):\n",
        "    if n == 0:\n",
        "        return 1\n",
        "    else:\n",
        "        return n * factorial(n-1)\n",
        "\n",
        "\n",
        "func_list = [factorial, fib]        \n",
        "\n",
        "\n",
        "\n",
        "def get_functions_dict(functions):\n",
        "    functions_dict = {}\n",
        "    for func in functions:\n",
        "        annotation = func.__annotations__.get('return')\n",
        "        if annotation:\n",
        "            first_word = annotation.split()[0]\n",
        "            functions_dict[first_word] = func\n",
        "    return functions_dict\n",
        "\n",
        "get_functions_dict(func_list)"
      ],
      "metadata": {
        "colab": {
          "base_uri": "https://localhost:8080/"
        },
        "id": "ou6_xMdtzylB",
        "outputId": "e429d55f-234d-424d-bc47-e75136c4d3e1"
      },
      "execution_count": null,
      "outputs": [
        {
          "output_type": "execute_result",
          "data": {
            "text/plain": [
              "{}"
            ]
          },
          "metadata": {},
          "execution_count": 81
        }
      ]
    },
    {
      "cell_type": "markdown",
      "source": [
        "### 4. Создать функцию реализующую REPL для словаря, созданного в задаче 3. Отдельно должен предусматриваться выход из цикла REPL."
      ],
      "metadata": {
        "id": "M-B6ISW28MUB"
      }
    },
    {
      "cell_type": "code",
      "source": [],
      "metadata": {
        "id": "JwLeIR_B8Top"
      },
      "execution_count": null,
      "outputs": []
    }
  ]
}